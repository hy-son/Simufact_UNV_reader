{
 "cells": [
  {
   "cell_type": "code",
   "execution_count": 1,
   "id": "e749532b-c307-47bd-b3ed-f85aabd67a15",
   "metadata": {},
   "outputs": [
    {
     "name": "stdout",
     "output_type": "stream",
     "text": [
      "3.9.21\n"
     ]
    }
   ],
   "source": [
    "import trimesh\n",
    "import numpy as np\n",
    "print(trimesh.__version__)\n",
    "from typing import Sequence"
   ]
  },
  {
   "cell_type": "markdown",
   "id": "23db9e41-980b-47f2-8a5b-1e9239a9c983",
   "metadata": {},
   "source": [
    "# Process"
   ]
  },
  {
   "cell_type": "code",
   "execution_count": 27,
   "id": "ca89072d-da2f-4d75-8613-cb551349c585",
   "metadata": {
    "tags": []
   },
   "outputs": [],
   "source": [
    "class Unv_process:\n",
    "    def __init__(self):\n",
    "        self.keys = []\n",
    "        self.description = {\"2412\": \"faces_coordinates\",\n",
    "                            \"2411\": \"vertices_coordinates\",\n",
    "                            \"164\": \"unit\",\n",
    "                            \"2414\":\"simulation_results\",\n",
    "                            \"Contained bodies:\": \"contained_bodies\",\n",
    "                           \n",
    "                           }\n",
    "    \n",
    "    def __str__(self): \n",
    "        txt = \"Object containing the information of the unv file\\n\"\n",
    "        for k in self.keys:\n",
    "            txt = txt + \"\\t-\"+  str(k) + \"\\n\"\n",
    "        return txt\n",
    "    \n",
    "    def  __repr__(self):\n",
    "        return self.__str__()\n",
    "    \n",
    "    def _add(self, key: str, content: Sequence[str]):\n",
    "        \"\"\"\n",
    "        Method to add to the UNV object a key and a value. Should be used to store the different block of the unv file\n",
    "        \"\"\"\n",
    "        try:\n",
    "            key = self.description[key]\n",
    "            setattr(self, key , content)\n",
    "        except:\n",
    "            key = key.lower().replace(\" \", \"_\")\n",
    "            \n",
    "            setattr(self, key ,np.array([row.split() for row in content[14::2]], dtype=float))# Remove the header\n",
    "        \n",
    "        self.keys.append(key)\n",
    "        \n",
    "    def load_file(self, path: str):\n",
    "        \"\"\"Load a unv file to this object\"\"\"\n",
    "        \n",
    "        # Define control value\n",
    "        is_reading_new_content = False\n",
    "        will_read_title = False\n",
    "        will_read_content = False\n",
    "        title = None\n",
    "        data = []\n",
    "\n",
    "        # Load file\n",
    "        with open(path, 'r') as file:\n",
    "            # For each line, will determine if this is a new data block or content\n",
    "            for line in file:\n",
    "                # If this is a change of data block and save previous block to self\n",
    "                if line.strip() == \"-1\":\n",
    "                    is_reading_new_content = True\n",
    "                    will_read_title = True\n",
    "\n",
    "                    if title:\n",
    "                        # For the results of the simulation, the true title his bellow\n",
    "                        if title == \"2414\":\n",
    "                            title = data[1]\n",
    "                        unv._add(title, data) \n",
    "                        title = None\n",
    "                        data = []\n",
    "\n",
    "                # If this the title of the block\n",
    "                elif will_read_title:\n",
    "                    title = line.strip()\n",
    "                    will_read_title = False\n",
    "                    will_read_content = True\n",
    "\n",
    "                # If this is the content of the block\n",
    "                elif will_read_content:\n",
    "                        data.append(line.replace(\"\\n\", \"\"))\n",
    "                        if not hasattr(self, 'time'):\n",
    "                            if line[0:5]== \"Time:\":\n",
    "                                time = line.split()[1]\n",
    "                                time = float(time)\n",
    "                                self.time= time \n",
    "                                m,s = divmod(time, 60)\n",
    "                                h, m = divmod(m, 60)\n",
    "                                self.time_human = f\"{h}:{m}:{s}\"\n",
    "        \n",
    "        self.__extract_vertice__() # Extract the vertices\n",
    "        \n",
    "                        \n",
    "    def __extract_vertice__(self):\n",
    "        # If the data had not been extracted, stop\n",
    "        if not hasattr(self, 'data_2411'):\n",
    "            Exception(\"Data not loaded, run 'load_file' before \")\n",
    "            \n",
    "        self.vertices = np.zeros((len(self.vertices_coordinates) //2,3))\n",
    "        # The data are containing vertice ID and coordinate, we only consider the coordinate\n",
    "        for i,vertice_line in enumerate(self.vertices_coordinates[1::2]):\n",
    "            coords = vertice_line.split() # Separate the X,Y,Z\n",
    "            coords = [float(c) for c in coords] # Transform the coordinate text in float\n",
    "            \n",
    "            # Put the coordinate in the vertices\n",
    "            self.vertices[i] = np.array(coords)\n",
    "    \n",
    "    def __extract_faces__(self):\n",
    "        # If the data had not been extracted, stop\n",
    "        if not hasattr(self, 'data_2412'):\n",
    "            Exception(\"Data not loaded, run 'load_file' before \")\n",
    "            \n",
    "        self.faces = np.zeros((len(self.faces_coordinates) // 2,3), dtype=int)\n",
    "\n",
    "        for i,faces_line in enumerate(self.faces_coordinates[1::2]):\n",
    "            fa = faces_line.split() # Separate the vertices ID, Vertice1, vertice 2 and other information\n",
    "            fa = [int(f)-1 for f in fa[0:3]]\n",
    "            fa = np.array(fa) # Transform the coordinate text in float\n",
    "            \n",
    "            # Put the coordinate in the vertices\n",
    "            self.faces[i] = fa\n",
    "        \n",
    "    def generate_mesh(self):\n",
    "        \"\"\"Wil generate the mesh by loading the value from the unv data\n",
    "        \"\"\"\n",
    "        # If vertice and edges are not computed, compute them\n",
    "        if not hasattr(self,\"vertices\"):\n",
    "            self.__extract_vertice__()\n",
    "        if not hasattr(self,\"faces\"):\n",
    "            self.__extract_faces__()\n",
    "            \n",
    "        self.mesh = trimesh.Trimesh(vertices=self.vertices, faces=self.faces, process=False)\n",
    "        self.mesh.show()\n",
    "        \n",
    "    def display_data(self, key: str):\n",
    "        \"\"\"Will display information base on a key, if there is multiple value per vertices a mean will be done\"\"\"\n",
    "        if not hasattr(self,key):\n",
    "            Exception(\"Key not existing\")\n",
    "        \n",
    "        features = getattr(self, key)\n",
    "        print(f\"{features.max()} , {features.min()}\")\n",
    "        features = features.mean(axis=1)  \n",
    "        self.mesh.visual.vertex_colors = trimesh.visual.interpolate(features, color_map='viridis')\n",
    "        return self.mesh.show()\n"
   ]
  },
  {
   "cell_type": "code",
   "execution_count": 28,
   "id": "2cd163c4-75e8-4b9e-907f-ce7022531e09",
   "metadata": {},
   "outputs": [
    {
     "name": "stdout",
     "output_type": "stream",
     "text": [
      "1712.87 , 1577.81\n"
     ]
    },
    {
     "data": {
      "text/plain": [
       "'6.0:56.0:13.799999999999272'"
      ]
     },
     "execution_count": 28,
     "metadata": {},
     "output_type": "execute_result"
    }
   ],
   "source": [
    "UNV_FILE = r\"Export\\surface-cantileverXbeam-mm_76.unv\"\n",
    "unv = Unv_process()\n",
    "unv.load_file(UNV_FILE)              \n",
    "unv.generate_mesh()\n",
    "unv.time_human\n",
    "unv.display_data(\"peak_temperature\")\n"
   ]
  },
  {
   "cell_type": "code",
   "execution_count": 29,
   "id": "12c00afc-2377-4c77-89ed-88ae594768d0",
   "metadata": {},
   "outputs": [
    {
     "data": {
      "text/plain": [
       "Object containing the information of the unv file\n",
       "\t-unit\n",
       "\t-contained_bodies\n",
       "\t-vertices_coordinates\n",
       "\t-faces_coordinates\n",
       "\t-stress\n",
       "\t-temperature\n",
       "\t-heat_flux\n",
       "\t-displacement_vector\n",
       "\t-creep_strain\n",
       "\t-temperature_gradient\n",
       "\t-peak_temperature\n",
       "\t-mean_normal_stress\n",
       "\t-effective_plastic_strain"
      ]
     },
     "execution_count": 29,
     "metadata": {},
     "output_type": "execute_result"
    }
   ],
   "source": [
    "unv"
   ]
  }
 ],
 "metadata": {
  "kernelspec": {
   "display_name": "Python 3",
   "language": "python",
   "name": "python3"
  },
  "language_info": {
   "codemirror_mode": {
    "name": "ipython",
    "version": 3
   },
   "file_extension": ".py",
   "mimetype": "text/x-python",
   "name": "python",
   "nbconvert_exporter": "python",
   "pygments_lexer": "ipython3",
   "version": "3.7.10"
  }
 },
 "nbformat": 4,
 "nbformat_minor": 5
}
